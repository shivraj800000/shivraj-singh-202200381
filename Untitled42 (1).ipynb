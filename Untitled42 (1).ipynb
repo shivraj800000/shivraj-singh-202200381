{
 "cells": [
  {
   "cell_type": "code",
   "execution_count": 4,
   "id": "e93e501e",
   "metadata": {},
   "outputs": [
    {
     "name": "stdout",
     "output_type": "stream",
     "text": [
      "Enter the path to your document file: C:\\Users\\ASUS\\Desktop\\aa\\sales_data.csv\n",
      "Enter the number of top frequent words to display: 5\n",
      "Total number of words: 110109\n",
      "Word: south, Frequency: 10108\n",
      "Word: africa1245, Frequency: 24\n",
      "Word: brazil1315, Frequency: 24\n",
      "Word: india1948, Frequency: 23\n",
      "Word: germany1013, Frequency: 23\n"
     ]
    }
   ],
   "source": [
    "from collections import Counter\n",
    "import re\n",
    "\n",
    "# Function to read a document\n",
    "def read_document(file_path):\n",
    "    with open(file_path, 'r') as file:\n",
    "        text = file.read()\n",
    "    return text\n",
    "\n",
    "# Function to preprocess the document\n",
    "def preprocess(text):\n",
    "    # Convert to lowercase and remove punctuation\n",
    "    text = text.lower()\n",
    "    text = re.sub(r'[^\\w\\s]', '', text)\n",
    "    return text\n",
    "\n",
    "# Function to find top N most frequent words\n",
    "def top_n_words(text, n):\n",
    "    # Tokenize the text into words\n",
    "    words = text.split()\n",
    "    \n",
    "    # Use Counter to count occurrences of each word\n",
    "    word_counts = Counter(words)\n",
    "    \n",
    "    # Get the top N words\n",
    "    top_words = word_counts.most_common(n)\n",
    "    \n",
    "    return top_words, len(words)\n",
    "\n",
    "# Prompt user to enter the file path\n",
    "file_path = input(\"Enter the path to your document file: \")\n",
    "\n",
    "if file_path:\n",
    "    text = read_document(file_path)\n",
    "    text = preprocess(text)\n",
    "\n",
    "    # Set N for top frequent words\n",
    "    n = int(input(\"Enter the number of top frequent words to display: \"))\n",
    "    top_words, total_words = top_n_words(text, n)\n",
    "\n",
    "    # Display the total number of words\n",
    "    print(f\"Total number of words: {total_words}\")\n",
    "\n",
    "    # Display the top N words\n",
    "    for word, count in top_words:\n",
    "        print(f\"Word: {word}, Frequency: {count}\")\n",
    "else:\n",
    "    print(\"No file selected.\")\n"
   ]
  }
 ],
 "metadata": {
  "kernelspec": {
   "display_name": "Python 3 (ipykernel)",
   "language": "python",
   "name": "python3"
  },
  "language_info": {
   "codemirror_mode": {
    "name": "ipython",
    "version": 3
   },
   "file_extension": ".py",
   "mimetype": "text/x-python",
   "name": "python",
   "nbconvert_exporter": "python",
   "pygments_lexer": "ipython3",
   "version": "3.11.4"
  }
 },
 "nbformat": 4,
 "nbformat_minor": 5
}
